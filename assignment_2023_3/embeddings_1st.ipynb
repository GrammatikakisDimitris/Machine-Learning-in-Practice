{
 "cells": [
  {
   "cell_type": "markdown",
   "id": "95a57d37",
   "metadata": {},
   "source": [
    "# Embeddings (1)"
   ]
  },
  {
   "cell_type": "markdown",
   "id": "b057ef4f",
   "metadata": {},
   "source": [
    "This file is for running the embeddings API of OpenAI for the **1st quarter** of the original DataFrame."
   ]
  },
  {
   "cell_type": "markdown",
   "id": "dfd8fd58",
   "metadata": {},
   "source": [
    "- Read DataFrame from csv (words only)."
   ]
  },
  {
   "cell_type": "code",
   "execution_count": 1,
   "id": "75639148",
   "metadata": {},
   "outputs": [
    {
     "data": {
      "text/html": [
       "<div>\n",
       "<style scoped>\n",
       "    .dataframe tbody tr th:only-of-type {\n",
       "        vertical-align: middle;\n",
       "    }\n",
       "\n",
       "    .dataframe tbody tr th {\n",
       "        vertical-align: top;\n",
       "    }\n",
       "\n",
       "    .dataframe thead th {\n",
       "        text-align: right;\n",
       "    }\n",
       "</style>\n",
       "<table border=\"1\" class=\"dataframe\">\n",
       "  <thead>\n",
       "    <tr style=\"text-align: right;\">\n",
       "      <th></th>\n",
       "      <th>word</th>\n",
       "      <th>vec</th>\n",
       "    </tr>\n",
       "  </thead>\n",
       "  <tbody>\n",
       "    <tr>\n",
       "      <th>0</th>\n",
       "      <td>existence</td>\n",
       "      <td>[-0.012068594805896282, 0.0012747612781822681,...</td>\n",
       "    </tr>\n",
       "    <tr>\n",
       "      <th>1</th>\n",
       "      <td>being</td>\n",
       "      <td>[0.004383814055472612, 0.011128472164273262, 0...</td>\n",
       "    </tr>\n",
       "    <tr>\n",
       "      <th>2</th>\n",
       "      <td>entity</td>\n",
       "      <td>[-0.01941847987473011, -0.011283711530268192, ...</td>\n",
       "    </tr>\n",
       "    <tr>\n",
       "      <th>3</th>\n",
       "      <td>ens</td>\n",
       "      <td>[-0.0191356148570776, 0.01700943522155285, -0....</td>\n",
       "    </tr>\n",
       "    <tr>\n",
       "      <th>4</th>\n",
       "      <td>esse</td>\n",
       "      <td>[-0.013645762577652931, 0.02081446535885334, -...</td>\n",
       "    </tr>\n",
       "    <tr>\n",
       "      <th>...</th>\n",
       "      <td>...</td>\n",
       "      <td>...</td>\n",
       "    </tr>\n",
       "    <tr>\n",
       "      <th>24995</th>\n",
       "      <td>slowly</td>\n",
       "      <td>NaN</td>\n",
       "    </tr>\n",
       "    <tr>\n",
       "      <th>24996</th>\n",
       "      <td>leisurely</td>\n",
       "      <td>NaN</td>\n",
       "    </tr>\n",
       "    <tr>\n",
       "      <th>24997</th>\n",
       "      <td>piano</td>\n",
       "      <td>NaN</td>\n",
       "    </tr>\n",
       "    <tr>\n",
       "      <th>24998</th>\n",
       "      <td>adagio</td>\n",
       "      <td>NaN</td>\n",
       "    </tr>\n",
       "    <tr>\n",
       "      <th>24999</th>\n",
       "      <td>largo</td>\n",
       "      <td>NaN</td>\n",
       "    </tr>\n",
       "  </tbody>\n",
       "</table>\n",
       "<p>25000 rows × 2 columns</p>\n",
       "</div>"
      ],
      "text/plain": [
       "            word                                                vec\n",
       "0      existence  [-0.012068594805896282, 0.0012747612781822681,...\n",
       "1          being  [0.004383814055472612, 0.011128472164273262, 0...\n",
       "2         entity  [-0.01941847987473011, -0.011283711530268192, ...\n",
       "3            ens  [-0.0191356148570776, 0.01700943522155285, -0....\n",
       "4           esse  [-0.013645762577652931, 0.02081446535885334, -...\n",
       "...          ...                                                ...\n",
       "24995     slowly                                                NaN\n",
       "24996  leisurely                                                NaN\n",
       "24997      piano                                                NaN\n",
       "24998     adagio                                                NaN\n",
       "24999      largo                                                NaN\n",
       "\n",
       "[25000 rows x 2 columns]"
      ]
     },
     "execution_count": 1,
     "metadata": {},
     "output_type": "execute_result"
    }
   ],
   "source": [
    "import pandas as pd\n",
    "\n",
    "embeddings1 = pd.read_csv('emb1.csv')\n",
    "del embeddings1['Unnamed: 0']\n",
    "embeddings1"
   ]
  },
  {
   "cell_type": "markdown",
   "id": "6788dae7",
   "metadata": {},
   "source": [
    "- Use personal api-key to access the API (choose the large embedding model that provides vectors up to **3072 elements**).  \n",
    "- Then read each word and create the corresponding embedding vector.  \n",
    "- Store vector in our DataFrame."
   ]
  },
  {
   "cell_type": "code",
   "execution_count": 3,
   "id": "b557a1a2",
   "metadata": {},
   "outputs": [],
   "source": [
    "import traceback\n",
    "import logging\n",
    "\n",
    "from openai import OpenAI\n",
    "client = OpenAI(api_key='my-key') # Establish connection\n",
    "\n",
    "# Make sure the vec column is filled with None before running\n",
    "embeddings1['vec'] = [None]*embeddings1['vec'].size\n",
    "\n",
    "# Tackle errors during execution with try-except schema\n",
    "for i in range(embeddings1['word'].size):\n",
    "    try:\n",
    "        response = client.embeddings.create(\n",
    "            input=embeddings1['word'][i], # Give input\n",
    "            model=\"text-embedding-3-large\" # Define model\n",
    "        )\n",
    "        embeddings1['vec'][i] = response.data[0].embedding # Extract vector output \n",
    "    except Exception as e:\n",
    "        continue # Next word"
   ]
  },
  {
   "cell_type": "code",
   "execution_count": 4,
   "id": "32ddd3ae",
   "metadata": {},
   "outputs": [
    {
     "data": {
      "text/html": [
       "<div>\n",
       "<style scoped>\n",
       "    .dataframe tbody tr th:only-of-type {\n",
       "        vertical-align: middle;\n",
       "    }\n",
       "\n",
       "    .dataframe tbody tr th {\n",
       "        vertical-align: top;\n",
       "    }\n",
       "\n",
       "    .dataframe thead th {\n",
       "        text-align: right;\n",
       "    }\n",
       "</style>\n",
       "<table border=\"1\" class=\"dataframe\">\n",
       "  <thead>\n",
       "    <tr style=\"text-align: right;\">\n",
       "      <th></th>\n",
       "      <th>word</th>\n",
       "      <th>vec</th>\n",
       "    </tr>\n",
       "  </thead>\n",
       "  <tbody>\n",
       "    <tr>\n",
       "      <th>0</th>\n",
       "      <td>existence</td>\n",
       "      <td>[-0.012068594805896282, 0.0012747612781822681,...</td>\n",
       "    </tr>\n",
       "    <tr>\n",
       "      <th>1</th>\n",
       "      <td>being</td>\n",
       "      <td>[0.004383814055472612, 0.011128472164273262, 0...</td>\n",
       "    </tr>\n",
       "    <tr>\n",
       "      <th>2</th>\n",
       "      <td>entity</td>\n",
       "      <td>[-0.01941847987473011, -0.011283711530268192, ...</td>\n",
       "    </tr>\n",
       "    <tr>\n",
       "      <th>3</th>\n",
       "      <td>ens</td>\n",
       "      <td>[-0.0191356148570776, 0.01700943522155285, -0....</td>\n",
       "    </tr>\n",
       "    <tr>\n",
       "      <th>4</th>\n",
       "      <td>esse</td>\n",
       "      <td>[-0.013645762577652931, 0.02081446535885334, -...</td>\n",
       "    </tr>\n",
       "    <tr>\n",
       "      <th>...</th>\n",
       "      <td>...</td>\n",
       "      <td>...</td>\n",
       "    </tr>\n",
       "    <tr>\n",
       "      <th>24995</th>\n",
       "      <td>slowly</td>\n",
       "      <td>[0.005791004281491041, -0.0055467807687819, -0...</td>\n",
       "    </tr>\n",
       "    <tr>\n",
       "      <th>24996</th>\n",
       "      <td>leisurely</td>\n",
       "      <td>[-0.007631841581314802, 0.045921508222818375, ...</td>\n",
       "    </tr>\n",
       "    <tr>\n",
       "      <th>24997</th>\n",
       "      <td>piano</td>\n",
       "      <td>[-0.019256502389907837, -0.03540017455816269, ...</td>\n",
       "    </tr>\n",
       "    <tr>\n",
       "      <th>24998</th>\n",
       "      <td>adagio</td>\n",
       "      <td>[-0.014269070699810982, -0.029934115707874298,...</td>\n",
       "    </tr>\n",
       "    <tr>\n",
       "      <th>24999</th>\n",
       "      <td>largo</td>\n",
       "      <td>[0.0034792006481438875, -0.0048216963186860085...</td>\n",
       "    </tr>\n",
       "  </tbody>\n",
       "</table>\n",
       "<p>25000 rows × 2 columns</p>\n",
       "</div>"
      ],
      "text/plain": [
       "            word                                                vec\n",
       "0      existence  [-0.012068594805896282, 0.0012747612781822681,...\n",
       "1          being  [0.004383814055472612, 0.011128472164273262, 0...\n",
       "2         entity  [-0.01941847987473011, -0.011283711530268192, ...\n",
       "3            ens  [-0.0191356148570776, 0.01700943522155285, -0....\n",
       "4           esse  [-0.013645762577652931, 0.02081446535885334, -...\n",
       "...          ...                                                ...\n",
       "24995     slowly  [0.005791004281491041, -0.0055467807687819, -0...\n",
       "24996  leisurely  [-0.007631841581314802, 0.045921508222818375, ...\n",
       "24997      piano  [-0.019256502389907837, -0.03540017455816269, ...\n",
       "24998     adagio  [-0.014269070699810982, -0.029934115707874298,...\n",
       "24999      largo  [0.0034792006481438875, -0.0048216963186860085...\n",
       "\n",
       "[25000 rows x 2 columns]"
      ]
     },
     "execution_count": 4,
     "metadata": {},
     "output_type": "execute_result"
    }
   ],
   "source": [
    "embeddings1"
   ]
  },
  {
   "cell_type": "markdown",
   "id": "cd52d864",
   "metadata": {},
   "source": [
    "- Store vectors to csv file."
   ]
  },
  {
   "cell_type": "code",
   "execution_count": 5,
   "id": "6034a7d6",
   "metadata": {},
   "outputs": [],
   "source": [
    "embeddings1.to_csv('emb1L.csv')"
   ]
  },
  {
   "cell_type": "code",
   "execution_count": null,
   "id": "ca100174",
   "metadata": {},
   "outputs": [],
   "source": []
  }
 ],
 "metadata": {
  "kernelspec": {
   "display_name": "Python 3",
   "language": "python",
   "name": "python3"
  },
  "language_info": {
   "codemirror_mode": {
    "name": "ipython",
    "version": 3
   },
   "file_extension": ".py",
   "mimetype": "text/x-python",
   "name": "python",
   "nbconvert_exporter": "python",
   "pygments_lexer": "ipython3",
   "version": "3.11.5"
  }
 },
 "nbformat": 4,
 "nbformat_minor": 5
}
