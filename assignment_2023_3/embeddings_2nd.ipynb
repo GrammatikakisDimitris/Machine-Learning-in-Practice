{
 "cells": [
  {
   "cell_type": "markdown",
   "id": "5a13a7c3",
   "metadata": {},
   "source": [
    "# Embeddings (2)"
   ]
  },
  {
   "cell_type": "markdown",
   "id": "f4a8c8a6",
   "metadata": {},
   "source": [
    "This file is for running the embeddings API of OpenAI for the **2nd quarter** of the original DataFrame."
   ]
  },
  {
   "cell_type": "markdown",
   "id": "1370600c",
   "metadata": {},
   "source": [
    "- Read DataFrame from csv (words only)."
   ]
  },
  {
   "cell_type": "code",
   "execution_count": 1,
   "id": "6c91b3c9",
   "metadata": {},
   "outputs": [
    {
     "data": {
      "text/html": [
       "<div>\n",
       "<style scoped>\n",
       "    .dataframe tbody tr th:only-of-type {\n",
       "        vertical-align: middle;\n",
       "    }\n",
       "\n",
       "    .dataframe tbody tr th {\n",
       "        vertical-align: top;\n",
       "    }\n",
       "\n",
       "    .dataframe thead th {\n",
       "        text-align: right;\n",
       "    }\n",
       "</style>\n",
       "<table border=\"1\" class=\"dataframe\">\n",
       "  <thead>\n",
       "    <tr style=\"text-align: right;\">\n",
       "      <th></th>\n",
       "      <th>word</th>\n",
       "      <th>vec</th>\n",
       "    </tr>\n",
       "  </thead>\n",
       "  <tbody>\n",
       "    <tr>\n",
       "      <th>0</th>\n",
       "      <td>larghetto</td>\n",
       "      <td>NaN</td>\n",
       "    </tr>\n",
       "    <tr>\n",
       "      <th>1</th>\n",
       "      <td>at half speed</td>\n",
       "      <td>NaN</td>\n",
       "    </tr>\n",
       "    <tr>\n",
       "      <th>2</th>\n",
       "      <td>under easy sail</td>\n",
       "      <td>NaN</td>\n",
       "    </tr>\n",
       "    <tr>\n",
       "      <th>3</th>\n",
       "      <td>at a foots pace</td>\n",
       "      <td>NaN</td>\n",
       "    </tr>\n",
       "    <tr>\n",
       "      <th>4</th>\n",
       "      <td>at a snail's pace</td>\n",
       "      <td>NaN</td>\n",
       "    </tr>\n",
       "    <tr>\n",
       "      <th>...</th>\n",
       "      <td>...</td>\n",
       "      <td>...</td>\n",
       "    </tr>\n",
       "    <tr>\n",
       "      <th>24995</th>\n",
       "      <td>trip up</td>\n",
       "      <td>NaN</td>\n",
       "    </tr>\n",
       "    <tr>\n",
       "      <th>24996</th>\n",
       "      <td>throw a tub to a whale</td>\n",
       "      <td>NaN</td>\n",
       "    </tr>\n",
       "    <tr>\n",
       "      <th>24997</th>\n",
       "      <td>fool to the top of one's bent</td>\n",
       "      <td>NaN</td>\n",
       "    </tr>\n",
       "    <tr>\n",
       "      <th>24998</th>\n",
       "      <td>send on a fool's errand</td>\n",
       "      <td>NaN</td>\n",
       "    </tr>\n",
       "    <tr>\n",
       "      <th>24999</th>\n",
       "      <td>make game</td>\n",
       "      <td>NaN</td>\n",
       "    </tr>\n",
       "  </tbody>\n",
       "</table>\n",
       "<p>25000 rows × 2 columns</p>\n",
       "</div>"
      ],
      "text/plain": [
       "                                word  vec\n",
       "0                          larghetto  NaN\n",
       "1                      at half speed  NaN\n",
       "2                    under easy sail  NaN\n",
       "3                    at a foots pace  NaN\n",
       "4                  at a snail's pace  NaN\n",
       "...                              ...  ...\n",
       "24995                        trip up  NaN\n",
       "24996         throw a tub to a whale  NaN\n",
       "24997  fool to the top of one's bent  NaN\n",
       "24998        send on a fool's errand  NaN\n",
       "24999                      make game  NaN\n",
       "\n",
       "[25000 rows x 2 columns]"
      ]
     },
     "execution_count": 1,
     "metadata": {},
     "output_type": "execute_result"
    }
   ],
   "source": [
    "import pandas as pd\n",
    "\n",
    "embeddings2 = pd.read_csv('emb2.csv')\n",
    "del embeddings2['Unnamed: 0']\n",
    "embeddings2"
   ]
  },
  {
   "cell_type": "markdown",
   "id": "bcd4d275",
   "metadata": {},
   "source": [
    "- Use personal api-key to access the API (choose the large embedding model that provides vectors up to **3072 elements**).  \n",
    "- Then read each word and create the corresponding embedding vector.  \n",
    "- Store vector in our DataFrame."
   ]
  },
  {
   "cell_type": "code",
   "execution_count": 2,
   "id": "d239026f",
   "metadata": {
    "scrolled": true
   },
   "outputs": [],
   "source": [
    "from openai import OpenAI\n",
    "client = OpenAI(api_key='my-key') # Establish connection\n",
    "\n",
    "# Make sure the vec column is filled with None before running\n",
    "embeddings2['vec'] = [None]*embeddings2['vec'].size \n",
    "\n",
    "for i in range(embeddings2['word'].size):\n",
    "    response = client.embeddings.create(\n",
    "        input=embeddings2['word'][i], # Give input\n",
    "        model=\"text-embedding-3-large\" # Define model\n",
    "    )\n",
    "    embeddings2['vec'][i] = response.data[0].embedding # Extract output vector"
   ]
  },
  {
   "cell_type": "code",
   "execution_count": 3,
   "id": "75fd73fe",
   "metadata": {},
   "outputs": [
    {
     "data": {
      "text/html": [
       "<div>\n",
       "<style scoped>\n",
       "    .dataframe tbody tr th:only-of-type {\n",
       "        vertical-align: middle;\n",
       "    }\n",
       "\n",
       "    .dataframe tbody tr th {\n",
       "        vertical-align: top;\n",
       "    }\n",
       "\n",
       "    .dataframe thead th {\n",
       "        text-align: right;\n",
       "    }\n",
       "</style>\n",
       "<table border=\"1\" class=\"dataframe\">\n",
       "  <thead>\n",
       "    <tr style=\"text-align: right;\">\n",
       "      <th></th>\n",
       "      <th>word</th>\n",
       "      <th>vec</th>\n",
       "    </tr>\n",
       "  </thead>\n",
       "  <tbody>\n",
       "    <tr>\n",
       "      <th>0</th>\n",
       "      <td>larghetto</td>\n",
       "      <td>[0.012530510313808918, -0.009746838361024857, ...</td>\n",
       "    </tr>\n",
       "    <tr>\n",
       "      <th>1</th>\n",
       "      <td>at half speed</td>\n",
       "      <td>[0.000148019302287139, 0.0051785302348434925, ...</td>\n",
       "    </tr>\n",
       "    <tr>\n",
       "      <th>2</th>\n",
       "      <td>under easy sail</td>\n",
       "      <td>[0.008814001455903053, 0.019285179674625397, 0...</td>\n",
       "    </tr>\n",
       "    <tr>\n",
       "      <th>3</th>\n",
       "      <td>at a foots pace</td>\n",
       "      <td>[-0.003748571965843439, 0.023081384599208832, ...</td>\n",
       "    </tr>\n",
       "    <tr>\n",
       "      <th>4</th>\n",
       "      <td>at a snail's pace</td>\n",
       "      <td>[-0.016775669530034065, 0.013165157288312912, ...</td>\n",
       "    </tr>\n",
       "    <tr>\n",
       "      <th>...</th>\n",
       "      <td>...</td>\n",
       "      <td>...</td>\n",
       "    </tr>\n",
       "    <tr>\n",
       "      <th>24995</th>\n",
       "      <td>trip up</td>\n",
       "      <td>[-0.0035504482220858335, 0.00111527054104954, ...</td>\n",
       "    </tr>\n",
       "    <tr>\n",
       "      <th>24996</th>\n",
       "      <td>throw a tub to a whale</td>\n",
       "      <td>[-0.032286711037158966, -0.0532321035861969, -...</td>\n",
       "    </tr>\n",
       "    <tr>\n",
       "      <th>24997</th>\n",
       "      <td>fool to the top of one's bent</td>\n",
       "      <td>[0.03192081302404404, 0.02451092191040516, -0....</td>\n",
       "    </tr>\n",
       "    <tr>\n",
       "      <th>24998</th>\n",
       "      <td>send on a fool's errand</td>\n",
       "      <td>[0.018230542540550232, -0.009704409167170525, ...</td>\n",
       "    </tr>\n",
       "    <tr>\n",
       "      <th>24999</th>\n",
       "      <td>make game</td>\n",
       "      <td>[-0.035696227103471756, -0.01113992277532816, ...</td>\n",
       "    </tr>\n",
       "  </tbody>\n",
       "</table>\n",
       "<p>25000 rows × 2 columns</p>\n",
       "</div>"
      ],
      "text/plain": [
       "                                word  \\\n",
       "0                          larghetto   \n",
       "1                      at half speed   \n",
       "2                    under easy sail   \n",
       "3                    at a foots pace   \n",
       "4                  at a snail's pace   \n",
       "...                              ...   \n",
       "24995                        trip up   \n",
       "24996         throw a tub to a whale   \n",
       "24997  fool to the top of one's bent   \n",
       "24998        send on a fool's errand   \n",
       "24999                      make game   \n",
       "\n",
       "                                                     vec  \n",
       "0      [0.012530510313808918, -0.009746838361024857, ...  \n",
       "1      [0.000148019302287139, 0.0051785302348434925, ...  \n",
       "2      [0.008814001455903053, 0.019285179674625397, 0...  \n",
       "3      [-0.003748571965843439, 0.023081384599208832, ...  \n",
       "4      [-0.016775669530034065, 0.013165157288312912, ...  \n",
       "...                                                  ...  \n",
       "24995  [-0.0035504482220858335, 0.00111527054104954, ...  \n",
       "24996  [-0.032286711037158966, -0.0532321035861969, -...  \n",
       "24997  [0.03192081302404404, 0.02451092191040516, -0....  \n",
       "24998  [0.018230542540550232, -0.009704409167170525, ...  \n",
       "24999  [-0.035696227103471756, -0.01113992277532816, ...  \n",
       "\n",
       "[25000 rows x 2 columns]"
      ]
     },
     "execution_count": 3,
     "metadata": {},
     "output_type": "execute_result"
    }
   ],
   "source": [
    "embeddings2"
   ]
  },
  {
   "cell_type": "markdown",
   "id": "258297d9",
   "metadata": {},
   "source": [
    "- Store vectors to csv file."
   ]
  },
  {
   "cell_type": "code",
   "execution_count": 4,
   "id": "7487a356",
   "metadata": {},
   "outputs": [],
   "source": [
    "embeddings2.to_csv('emb2L.csv')"
   ]
  },
  {
   "cell_type": "code",
   "execution_count": null,
   "id": "61bbdc75",
   "metadata": {},
   "outputs": [],
   "source": []
  }
 ],
 "metadata": {
  "kernelspec": {
   "display_name": "Python 3",
   "language": "python",
   "name": "python3"
  },
  "language_info": {
   "codemirror_mode": {
    "name": "ipython",
    "version": 3
   },
   "file_extension": ".py",
   "mimetype": "text/x-python",
   "name": "python",
   "nbconvert_exporter": "python",
   "pygments_lexer": "ipython3",
   "version": "3.11.5"
  }
 },
 "nbformat": 4,
 "nbformat_minor": 5
}
