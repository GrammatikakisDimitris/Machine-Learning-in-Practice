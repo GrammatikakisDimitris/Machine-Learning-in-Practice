{
 "cells": [
  {
   "cell_type": "markdown",
   "id": "134d5d19",
   "metadata": {},
   "source": [
    "# Embeddings (3)"
   ]
  },
  {
   "cell_type": "markdown",
   "id": "9b1b6007",
   "metadata": {},
   "source": [
    "This file is for running the embeddings API of OpenAI for the **3rd quarter** of the original DataFrame."
   ]
  },
  {
   "cell_type": "markdown",
   "id": "bc1fae69",
   "metadata": {},
   "source": [
    "- Read DataFrame from csv (words only)."
   ]
  },
  {
   "cell_type": "code",
   "execution_count": 1,
   "id": "1e3c0778",
   "metadata": {},
   "outputs": [
    {
     "data": {
      "text/html": [
       "<div>\n",
       "<style scoped>\n",
       "    .dataframe tbody tr th:only-of-type {\n",
       "        vertical-align: middle;\n",
       "    }\n",
       "\n",
       "    .dataframe tbody tr th {\n",
       "        vertical-align: top;\n",
       "    }\n",
       "\n",
       "    .dataframe thead th {\n",
       "        text-align: right;\n",
       "    }\n",
       "</style>\n",
       "<table border=\"1\" class=\"dataframe\">\n",
       "  <thead>\n",
       "    <tr style=\"text-align: right;\">\n",
       "      <th></th>\n",
       "      <th>word</th>\n",
       "      <th>vec</th>\n",
       "    </tr>\n",
       "  </thead>\n",
       "  <tbody>\n",
       "    <tr>\n",
       "      <th>0</th>\n",
       "      <td>make a fool of</td>\n",
       "      <td>NaN</td>\n",
       "    </tr>\n",
       "    <tr>\n",
       "      <th>1</th>\n",
       "      <td>make an April fool of</td>\n",
       "      <td>NaN</td>\n",
       "    </tr>\n",
       "    <tr>\n",
       "      <th>2</th>\n",
       "      <td>make an ass of</td>\n",
       "      <td>NaN</td>\n",
       "    </tr>\n",
       "    <tr>\n",
       "      <th>3</th>\n",
       "      <td>trifle with</td>\n",
       "      <td>NaN</td>\n",
       "    </tr>\n",
       "    <tr>\n",
       "      <th>4</th>\n",
       "      <td>cajole</td>\n",
       "      <td>NaN</td>\n",
       "    </tr>\n",
       "    <tr>\n",
       "      <th>...</th>\n",
       "      <td>...</td>\n",
       "      <td>...</td>\n",
       "    </tr>\n",
       "    <tr>\n",
       "      <th>24995</th>\n",
       "      <td>nullify</td>\n",
       "      <td>NaN</td>\n",
       "    </tr>\n",
       "    <tr>\n",
       "      <th>24996</th>\n",
       "      <td>declare null and void</td>\n",
       "      <td>NaN</td>\n",
       "    </tr>\n",
       "    <tr>\n",
       "      <th>24997</th>\n",
       "      <td>cancel</td>\n",
       "      <td>NaN</td>\n",
       "    </tr>\n",
       "    <tr>\n",
       "      <th>24998</th>\n",
       "      <td>retract</td>\n",
       "      <td>NaN</td>\n",
       "    </tr>\n",
       "    <tr>\n",
       "      <th>24999</th>\n",
       "      <td>go back from</td>\n",
       "      <td>NaN</td>\n",
       "    </tr>\n",
       "  </tbody>\n",
       "</table>\n",
       "<p>25000 rows × 2 columns</p>\n",
       "</div>"
      ],
      "text/plain": [
       "                        word  vec\n",
       "0             make a fool of  NaN\n",
       "1      make an April fool of  NaN\n",
       "2             make an ass of  NaN\n",
       "3                trifle with  NaN\n",
       "4                     cajole  NaN\n",
       "...                      ...  ...\n",
       "24995                nullify  NaN\n",
       "24996  declare null and void  NaN\n",
       "24997                 cancel  NaN\n",
       "24998                retract  NaN\n",
       "24999           go back from  NaN\n",
       "\n",
       "[25000 rows x 2 columns]"
      ]
     },
     "execution_count": 1,
     "metadata": {},
     "output_type": "execute_result"
    }
   ],
   "source": [
    "import pandas as pd\n",
    "\n",
    "embeddings3 = pd.read_csv('embs3.csv')\n",
    "del embeddings3['Unnamed: 0']\n",
    "embeddings3"
   ]
  },
  {
   "cell_type": "markdown",
   "id": "cdac5a75",
   "metadata": {},
   "source": [
    "- Use personal api-key to access the API (choose the large embedding model that provides vectors up to **3072 elements**).  \n",
    "- Then read each word and create the corresponding embedding vector.  \n",
    "- Store vector in our DataFrame."
   ]
  },
  {
   "cell_type": "code",
   "execution_count": 2,
   "id": "46694289",
   "metadata": {
    "scrolled": true
   },
   "outputs": [],
   "source": [
    "from openai import OpenAI\n",
    "client = OpenAI(api_key='my-key') # Establish connection\n",
    "\n",
    "# Make sure the vec column is filled with None before running\n",
    "embeddings3['vec'] = [None]*embeddings3['vec'].size \n",
    "\n",
    "for i in range(embeddings3['word'].size):\n",
    "    response = client.embeddings.create(\n",
    "        input=embeddings3['word'][i], # Give input\n",
    "        model=\"text-embedding-3-large\" # Define model\n",
    "    )\n",
    "    embeddings3['vec'][i] = response.data[0].embedding # Extract output vector"
   ]
  },
  {
   "cell_type": "code",
   "execution_count": 3,
   "id": "4a3440df",
   "metadata": {},
   "outputs": [
    {
     "data": {
      "text/html": [
       "<div>\n",
       "<style scoped>\n",
       "    .dataframe tbody tr th:only-of-type {\n",
       "        vertical-align: middle;\n",
       "    }\n",
       "\n",
       "    .dataframe tbody tr th {\n",
       "        vertical-align: top;\n",
       "    }\n",
       "\n",
       "    .dataframe thead th {\n",
       "        text-align: right;\n",
       "    }\n",
       "</style>\n",
       "<table border=\"1\" class=\"dataframe\">\n",
       "  <thead>\n",
       "    <tr style=\"text-align: right;\">\n",
       "      <th></th>\n",
       "      <th>word</th>\n",
       "      <th>vec</th>\n",
       "    </tr>\n",
       "  </thead>\n",
       "  <tbody>\n",
       "    <tr>\n",
       "      <th>0</th>\n",
       "      <td>make a fool of</td>\n",
       "      <td>[0.02152961678802967, -0.022376881912350655, -...</td>\n",
       "    </tr>\n",
       "    <tr>\n",
       "      <th>1</th>\n",
       "      <td>make an April fool of</td>\n",
       "      <td>[0.0005690762773156166, -0.020257286727428436,...</td>\n",
       "    </tr>\n",
       "    <tr>\n",
       "      <th>2</th>\n",
       "      <td>make an ass of</td>\n",
       "      <td>[0.011938272975385189, -0.008908421732485294, ...</td>\n",
       "    </tr>\n",
       "    <tr>\n",
       "      <th>3</th>\n",
       "      <td>trifle with</td>\n",
       "      <td>[-0.016612699255347252, -0.007306511513888836,...</td>\n",
       "    </tr>\n",
       "    <tr>\n",
       "      <th>4</th>\n",
       "      <td>cajole</td>\n",
       "      <td>[-0.024196593090891838, -0.03589264303445816, ...</td>\n",
       "    </tr>\n",
       "    <tr>\n",
       "      <th>...</th>\n",
       "      <td>...</td>\n",
       "      <td>...</td>\n",
       "    </tr>\n",
       "    <tr>\n",
       "      <th>24995</th>\n",
       "      <td>nullify</td>\n",
       "      <td>[-0.03417118638753891, -0.047342561185359955, ...</td>\n",
       "    </tr>\n",
       "    <tr>\n",
       "      <th>24996</th>\n",
       "      <td>declare null and void</td>\n",
       "      <td>[-0.0159055944532156, -0.04391665384173393, -0...</td>\n",
       "    </tr>\n",
       "    <tr>\n",
       "      <th>24997</th>\n",
       "      <td>cancel</td>\n",
       "      <td>[-0.013750141486525536, -0.02101719379425049, ...</td>\n",
       "    </tr>\n",
       "    <tr>\n",
       "      <th>24998</th>\n",
       "      <td>retract</td>\n",
       "      <td>[-0.007555052638053894, -0.005431007593870163,...</td>\n",
       "    </tr>\n",
       "    <tr>\n",
       "      <th>24999</th>\n",
       "      <td>go back from</td>\n",
       "      <td>[-0.013341587968170643, 0.0031740067061036825,...</td>\n",
       "    </tr>\n",
       "  </tbody>\n",
       "</table>\n",
       "<p>25000 rows × 2 columns</p>\n",
       "</div>"
      ],
      "text/plain": [
       "                        word  \\\n",
       "0             make a fool of   \n",
       "1      make an April fool of   \n",
       "2             make an ass of   \n",
       "3                trifle with   \n",
       "4                     cajole   \n",
       "...                      ...   \n",
       "24995                nullify   \n",
       "24996  declare null and void   \n",
       "24997                 cancel   \n",
       "24998                retract   \n",
       "24999           go back from   \n",
       "\n",
       "                                                     vec  \n",
       "0      [0.02152961678802967, -0.022376881912350655, -...  \n",
       "1      [0.0005690762773156166, -0.020257286727428436,...  \n",
       "2      [0.011938272975385189, -0.008908421732485294, ...  \n",
       "3      [-0.016612699255347252, -0.007306511513888836,...  \n",
       "4      [-0.024196593090891838, -0.03589264303445816, ...  \n",
       "...                                                  ...  \n",
       "24995  [-0.03417118638753891, -0.047342561185359955, ...  \n",
       "24996  [-0.0159055944532156, -0.04391665384173393, -0...  \n",
       "24997  [-0.013750141486525536, -0.02101719379425049, ...  \n",
       "24998  [-0.007555052638053894, -0.005431007593870163,...  \n",
       "24999  [-0.013341587968170643, 0.0031740067061036825,...  \n",
       "\n",
       "[25000 rows x 2 columns]"
      ]
     },
     "execution_count": 3,
     "metadata": {},
     "output_type": "execute_result"
    }
   ],
   "source": [
    "embeddings3"
   ]
  },
  {
   "cell_type": "markdown",
   "id": "5711c0e2",
   "metadata": {},
   "source": [
    "- Store vectors to csv file."
   ]
  },
  {
   "cell_type": "code",
   "execution_count": 4,
   "id": "d3601687",
   "metadata": {},
   "outputs": [],
   "source": [
    "embeddings3.to_csv('emb3L.csv')"
   ]
  },
  {
   "cell_type": "code",
   "execution_count": null,
   "id": "5c4cdd5f",
   "metadata": {},
   "outputs": [],
   "source": []
  }
 ],
 "metadata": {
  "kernelspec": {
   "display_name": "Python 3",
   "language": "python",
   "name": "python3"
  },
  "language_info": {
   "codemirror_mode": {
    "name": "ipython",
    "version": 3
   },
   "file_extension": ".py",
   "mimetype": "text/x-python",
   "name": "python",
   "nbconvert_exporter": "python",
   "pygments_lexer": "ipython3",
   "version": "3.11.5"
  }
 },
 "nbformat": 4,
 "nbformat_minor": 5
}
